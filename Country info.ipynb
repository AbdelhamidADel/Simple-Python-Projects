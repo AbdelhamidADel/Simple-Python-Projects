{
 "cells": [
  {
   "cell_type": "code",
   "execution_count": 18,
   "id": "e475ad33",
   "metadata": {},
   "outputs": [
    {
     "name": "stdout",
     "output_type": "stream",
     "text": [
      "Enter the country to find its information : egypt\n"
     ]
    }
   ],
   "source": [
    "from countryinfo import CountryInfo\n",
    "select=str(input(\"Enter the country to find its information : \")).capitalize()\n",
    "country = CountryInfo(select)"
   ]
  },
  {
   "cell_type": "code",
   "execution_count": 33,
   "id": "cc380f4f",
   "metadata": {},
   "outputs": [
    {
     "name": "stdout",
     "output_type": "stream",
     "text": [
      "alt_spellings :  ['EG', 'Arab Republic of Egypt']\n",
      "capital :  Cairo\n",
      "currencies :  ['EGP']\n",
      "languages :  ['ar']\n",
      "borders :  ['ISR', 'LBY', 'SDN']\n",
      "native_name :  مصر‎\n",
      "translations :  {'de': 'Ägypten', 'es': 'Egipto', 'fr': 'Égypte', 'ja': 'エジプト', 'it': 'Egitto'}\n",
      "wiki :  http://en.wikipedia.org/wiki/egypt\n",
      "alt_spellings :  ['EG', 'Arab Republic of Egypt']\n"
     ]
    }
   ],
   "source": [
    "print(\"alt_spellings : \",country.alt_spellings())\n",
    "print(\"capital : \",country.capital())\n",
    "print(\"currencies : \",country.currencies())\n",
    "print(\"languages : \",country.languages())\n",
    "print(\"borders : \",country.borders())\n",
    "print(\"native_name : \",country.native_name())\n",
    "print(\"translations : \",country.translations())\n",
    "print(\"wiki : \",country.wiki())\n",
    "print(\"alt_spellings : \",country.alt_spellings())"
   ]
  },
  {
   "cell_type": "code",
   "execution_count": null,
   "id": "acacf0d5",
   "metadata": {},
   "outputs": [],
   "source": []
  }
 ],
 "metadata": {
  "kernelspec": {
   "display_name": "myenv",
   "language": "python",
   "name": "myenv"
  },
  "language_info": {
   "codemirror_mode": {
    "name": "ipython",
    "version": 3
   },
   "file_extension": ".py",
   "mimetype": "text/x-python",
   "name": "python",
   "nbconvert_exporter": "python",
   "pygments_lexer": "ipython3",
   "version": "3.10.4"
  }
 },
 "nbformat": 4,
 "nbformat_minor": 5
}
