{
 "cells": [
  {
   "cell_type": "code",
   "execution_count": 8,
   "metadata": {},
   "outputs": [
    {
     "name": "stdout",
     "output_type": "stream",
     "text": [
      "Welcome to Love Percentage Calculator \n",
      "\n",
      "What is the name of prince :Abdo\n",
      "What is the name of princess:Py\n",
      "Calculating...\n",
      "abdo and py have a 74 % relationship.\n",
      "You have a strong relationship that will most likely lead to a marriage.\n"
     ]
    }
   ],
   "source": [
    "import random\n",
    "import time\n",
    "\n",
    "print('Welcome to Love Percentage Calculator \\n')\n",
    "\n",
    "prince=input (\"What is the name of prince :\").lower()\n",
    "\n",
    "princess=input(\"What is the name of princess:\").lower()\n",
    "\n",
    "boy=(len(prince))\n",
    "\n",
    "girl=(len(princess))\n",
    "\n",
    "rnd=random.randint(1,20)\n",
    "\n",
    "love=100-(boy*girl)-rnd\n",
    "print(\"Calculating...\")\n",
    "time.sleep(5)\n",
    "\n",
    "print(prince, \"and\", princess, \"have a\", love, \"% relationship.\")\n",
    "\n",
    "if love >= 90:\n",
    "    print(\"You have an unbreakable relationship that will last forever\")\n",
    "\n",
    "elif 70 <= love <= 89:\n",
    "    print(\"You have a strong relationship that will most likely lead to a marriage.\")\n",
    "\n",
    "elif 50 <= love <= 69:\n",
    "    print(\"You have a good relationship that can lead to a Date.\")\n",
    "\n",
    "else:\n",
    "    print(\"You have a weak relationship that could have been a 'match made in heaven'.\")"
   ]
  },
  {
   "cell_type": "code",
   "execution_count": null,
   "metadata": {},
   "outputs": [],
   "source": []
  }
 ],
 "metadata": {
  "kernelspec": {
   "display_name": "Python 3 (ipykernel)",
   "language": "python",
   "name": "python3"
  },
  "language_info": {
   "codemirror_mode": {
    "name": "ipython",
    "version": 3
   },
   "file_extension": ".py",
   "mimetype": "text/x-python",
   "name": "python",
   "nbconvert_exporter": "python",
   "pygments_lexer": "ipython3",
   "version": "3.7.6"
  }
 },
 "nbformat": 4,
 "nbformat_minor": 4
}
