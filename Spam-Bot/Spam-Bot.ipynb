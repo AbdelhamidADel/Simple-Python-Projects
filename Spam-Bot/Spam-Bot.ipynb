{
 "cells": [
  {
   "cell_type": "code",
   "execution_count": 1,
   "metadata": {},
   "outputs": [
    {
     "name": "stdout",
     "output_type": "stream",
     "text": [
      "2022-06-23 22:46:14.920863\n",
      "2022-06-23 22:46:20.209319\n",
      "2022-06-23 22:46:25.480730\n",
      "2022-06-23 22:46:30.758207\n",
      "2022-06-23 22:46:36.103846\n",
      "2022-06-23 22:46:41.476291\n",
      "2022-06-23 22:46:46.784050\n",
      "2022-06-23 22:46:52.061790\n"
     ]
    },
    {
     "ename": "KeyboardInterrupt",
     "evalue": "",
     "output_type": "error",
     "traceback": [
      "\u001b[1;31m---------------------------------------------------------------------------\u001b[0m",
      "\u001b[1;31mKeyboardInterrupt\u001b[0m                         Traceback (most recent call last)",
      "\u001b[1;32m~\\AppData\\Local\\Temp\\ipykernel_22504\\1128808552.py\u001b[0m in \u001b[0;36m<module>\u001b[1;34m\u001b[0m\n\u001b[0;32m     23\u001b[0m         \u001b[0mpyautogui\u001b[0m\u001b[1;33m.\u001b[0m\u001b[0mtypewrite\u001b[0m\u001b[1;33m(\u001b[0m\u001b[1;34m\"Abdelhamid\"\u001b[0m\u001b[1;33m)\u001b[0m\u001b[1;33m\u001b[0m\u001b[1;33m\u001b[0m\u001b[0m\n\u001b[0;32m     24\u001b[0m         \u001b[0mpyautogui\u001b[0m\u001b[1;33m.\u001b[0m\u001b[0mpress\u001b[0m\u001b[1;33m(\u001b[0m\u001b[1;34m\"enter\"\u001b[0m\u001b[1;33m)\u001b[0m\u001b[1;33m\u001b[0m\u001b[1;33m\u001b[0m\u001b[0m\n\u001b[1;32m---> 25\u001b[1;33m         \u001b[0mtime\u001b[0m\u001b[1;33m.\u001b[0m\u001b[0msleep\u001b[0m\u001b[1;33m(\u001b[0m\u001b[1;36m5\u001b[0m\u001b[1;33m)\u001b[0m\u001b[1;33m\u001b[0m\u001b[1;33m\u001b[0m\u001b[0m\n\u001b[0m\u001b[0;32m     26\u001b[0m \u001b[1;33m\u001b[0m\u001b[0m\n\u001b[0;32m     27\u001b[0m         \u001b[0mprint\u001b[0m\u001b[1;33m(\u001b[0m\u001b[0mdatetime\u001b[0m\u001b[1;33m.\u001b[0m\u001b[0mdatetime\u001b[0m\u001b[1;33m.\u001b[0m\u001b[0mnow\u001b[0m\u001b[1;33m(\u001b[0m\u001b[1;33m)\u001b[0m\u001b[1;33m)\u001b[0m\u001b[1;33m\u001b[0m\u001b[1;33m\u001b[0m\u001b[0m\n",
      "\u001b[1;31mKeyboardInterrupt\u001b[0m: "
     ]
    }
   ],
   "source": [
    "import pyautogui, time, datetime\n",
    "\n",
    "time.sleep(2)\n",
    "\n",
    "while True:\n",
    "\t\n",
    "\t \n",
    "     \n",
    "    #to display the time at which the message is sent\n",
    "\tprint(datetime.datetime.now())\n",
    "\tpyautogui.typewrite(\"Reminder: Drink water!\")\n",
    "\tpyautogui.press(\"enter\")\n",
    "\ttime.sleep(5)\n",
    "\n",
    "\tprint(datetime.datetime.now())\n",
    "\n",
    "\tpyautogui.typewrite(\"Reminder: Take medicine!\")\n",
    "\tpyautogui.press(\"enter\")\n",
    "\ttime.sleep(5)\n",
    "\n",
    "\tprint(datetime.datetime.now())hamid\n",
    "    \n",
    "\n",
    "\tpyautogui.typewrite(\"Reminder: Take the dog for a walk!\")\n",
    "\tpyautogui.press(\"enter\")\n",
    "\ttime.sleep(5)\n",
    "\n",
    "\tprint(datetime.datetime.now())\n",
    "\n",
    "\tpyautogui.typewrite(\"Reminder: Drink water!\")\n",
    "\tpyautogui.press(\"enter\")\n",
    "\ttime.sleep(5)\n",
    "\n",
    "\tprint(datetime.datetime.now())\n",
    "\n",
    "\tpyautogui.typewrite(\"Reminder: Drink water!\")\n",
    "\tpyautogui.press(\"enter\")\n",
    "\ttime.sleep(5)\n"
   ]
  },
  {
   "cell_type": "code",
   "execution_count": null,
   "metadata": {},
   "outputs": [],
   "source": []
  },
  {
   "cell_type": "code",
   "execution_count": null,
   "metadata": {},
   "outputs": [],
   "source": []
  },
  {
   "cell_type": "raw",
   "metadata": {},
   "source": []
  }
 ],
 "metadata": {
  "kernelspec": {
   "display_name": "Python 3 (ipykernel)",
   "language": "python",
   "name": "python3"
  },
  "language_info": {
   "codemirror_mode": {
    "name": "ipython",
    "version": 3
   },
   "file_extension": ".py",
   "mimetype": "text/x-python",
   "name": "python",
   "nbconvert_exporter": "python",
   "pygments_lexer": "ipython3",
   "version": "3.7.6"
  }
 },
 "nbformat": 4,
 "nbformat_minor": 4
}
