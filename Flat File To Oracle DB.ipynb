{
 "cells": [
  {
   "cell_type": "markdown",
   "id": "13fe29c5",
   "metadata": {},
   "source": [
    "# 1- Data Ingestion\n",
    "### Includes :\n",
    "<ul>\n",
    "    <li>Metadata Extraction</li>\n",
    "    <li>Checking Nulls</li>\n",
    "    <li>Checking Duplication</li>\n",
    "</ul>\n",
    "\n",
    "# 2- Transformation\n",
    "<ul>\n",
    "    <li>Drop Nulls</li>\n",
    "    <li>Sort with (Value_Eur --- Desc)</li>\n",
    "    <li>Filter (Age <=25)</li>\n",
    "</ul>\n",
    "\n",
    "# 3- Data Loading\n",
    "<ul>\n",
    "    <li>Load Data To Oracle DB</li>\n",
    "</ul>"
   ]
  },
  {
   "cell_type": "code",
   "execution_count": 2,
   "id": "d7a5a2d3",
   "metadata": {
    "scrolled": false
   },
   "outputs": [
    {
     "name": "stdout",
     "output_type": "stream",
     "text": [
      "------> Starting Spark Engine....\n",
      "Done\n",
      " \n",
      "------> Starting Ingestion....\n",
      "Done\n",
      " \n",
      "------> Exporting schema....\n",
      "Done.\n",
      " \n",
      "------> Checking nulls Start....\n",
      "Done\n",
      " \n",
      "------> Checking duplicates Start....\n",
      "Done\n",
      " \n",
      "------> Exporting data info....\n",
      "Done\n",
      " \n",
      "==========================================================================================================\n",
      "------> Starting Data Transformation....\n",
      "Done\n",
      " \n",
      "==========================================================================================================\n",
      "------> Starting Data Loading....\n",
      "Done\n",
      " \n",
      "To Check in Details Visit Spark-UI Below:\n",
      "CPU times: total: 2.19 s\n",
      "Wall time: 27min 2s\n"
     ]
    },
    {
     "data": {
      "text/html": [
       "\n",
       "            <div>\n",
       "                <p><b>SparkSession - in-memory</b></p>\n",
       "                \n",
       "        <div>\n",
       "            <p><b>SparkContext</b></p>\n",
       "\n",
       "            <p><a href=\"http://DESKTOP-ABR0429:4040\">Spark UI</a></p>\n",
       "\n",
       "            <dl>\n",
       "              <dt>Version</dt>\n",
       "                <dd><code>v3.4.0</code></dd>\n",
       "              <dt>Master</dt>\n",
       "                <dd><code>local[*]</code></dd>\n",
       "              <dt>AppName</dt>\n",
       "                <dd><code>MySparkApp</code></dd>\n",
       "            </dl>\n",
       "        </div>\n",
       "        \n",
       "            </div>\n",
       "        "
      ],
      "text/plain": [
       "<pyspark.sql.session.SparkSession at 0x260183a6230>"
      ]
     },
     "execution_count": 2,
     "metadata": {},
     "output_type": "execute_result"
    }
   ],
   "source": [
    "%%time\n",
    "import pyspark\n",
    "from pyspark import StorageLevel\n",
    "from pyspark.sql import SparkSession\n",
    "from pyspark.sql.functions import count, isnull, when ,col\n",
    "from pyspark.sql.types import *\n",
    "import os\n",
    "import sys\n",
    "spark_path = r\"C:\\Spark\\spark-3.4.0\"\n",
    "os.environ['SPARK_HOME'] = spark_path\n",
    "sys.path.insert(0, spark_path + \"/bin\")\n",
    "sys.path.insert(0, spark_path + \"/python/pyspark/\")\n",
    "sys.path.insert(0, spark_path + \"/python/lib/pyspark.zip\")\n",
    "sys.path.insert(0, spark_path + \"/python/lib/py4j-0.10.7-src.zip\")\n",
    "\n",
    "# Create a SparkSession with custom configurations\n",
    "\n",
    "print('------> Starting Spark Engine....')\n",
    "spark = SparkSession.builder \\\n",
    "    .appName(\"MySparkApp\") \\\n",
    "    .master(\"local[*]\") \\\n",
    "    .config(\"spark.executor.memory\", \"8g\") \\\n",
    "    .config(\"spark.driver.memory\", \"4g\") \\\n",
    "    .config(\"spark.log.level\", \"WARN\") \\\n",
    "    .config(\"spark.sql.shuffle.partitions\", 1000) \\\n",
    "    .getOrCreate()\n",
    "\n",
    "print('Done')\n",
    "print(' ')\n",
    "\n",
    "# Read the data into a DataFrame\n",
    "print('------> Starting Ingestion....')\n",
    "data = spark.read.csv(r'C:\\Users\\hp\\PYSPARK-ASSESSMENT\\File -- Oracle DB\\male_players.csv', header=True, inferSchema=True).cache()\n",
    "print('Done')\n",
    "print(' ')\n",
    "\n",
    "\n",
    "# Write the schema string to a text file\n",
    "print('------> Exporting schema....')\n",
    "schema_string = data._jdf.schema().treeString()\n",
    "with open(\"metadata/schema.txt\", \"w\") as f:\n",
    "    f.write(str(schema_string).replace(\"(nullable = true)\",\"\"))\n",
    "print('Done.')\n",
    "print(' ')\n",
    "\n",
    "# Check for null values\n",
    "print('------> Checking nulls Start....')\n",
    "null_counts = data.select([count(when(isnull(c), c)).alias(c) for c in data.columns]).toPandas()\n",
    "null_counts.index = ['null_count']\n",
    "print('Done')\n",
    "print(' ')\n",
    "\n",
    "\n",
    "# Check for duplicates\n",
    "print('------> Checking duplicates Start....')\n",
    "duplicate_counts = data.groupBy(data.columns).count().filter('count > 1').toPandas() \n",
    "print('Done')\n",
    "print(' ')\n",
    "\n",
    "\n",
    "# Save data information and schema to an Excel file\n",
    "print('------> Exporting data info....')\n",
    "with pd.ExcelWriter(\"metadata/data_info.xlsx\") as writer:\n",
    "    data.describe().toPandas().to_excel(writer, sheet_name=\"Data Info\", index=False)\n",
    "    null_counts.to_excel(writer, sheet_name=\"Null Counts\", index=False)\n",
    "    duplicate_counts.to_excel(writer, sheet_name=\"Duplicate Counts\", index=False)\n",
    "print('Done')\n",
    "print(' ')\n",
    "\n",
    "\n",
    "\n",
    "print(\"==========================================================================================================\")\n",
    "print('------> Starting Data Transformation....')\n",
    "# Drop null values\n",
    "data_dropped_nulls = data.dropna(how=\"any\", subset=[\"value_eur\"]).persist(StorageLevel.MEMORY_AND_DISK)\n",
    "\n",
    "# Sort the DataFrame by \"value_eur\" in descending order\n",
    "data_sorted = data_dropped_nulls.sort(\"value_eur\", ascending=False).persist(StorageLevel.MEMORY_AND_DISK)\n",
    "\n",
    "# Filter for ages greater than or equal to 25\n",
    "data_filtered = data_sorted.filter(data_sorted['age'] <= 25).persist(StorageLevel.MEMORY_AND_DISK)\n",
    "print('Done')\n",
    "print(' ')\n",
    "\n",
    "data2=data_filtered.withColumn(\"player_traits\", data[\"player_traits\"].cast(\"Long\")).persist(StorageLevel.MEMORY_AND_DISK)\n",
    "\n",
    "\n",
    "\n",
    "print(\"==========================================================================================================\")\n",
    "print('------> Starting Data Loading....')\n",
    "\n",
    "dbtable = \"FIFA_PLAYER_FILE_2\"\n",
    "user = \"system\"\n",
    "password = \"Welcome123\"\n",
    "# Change this to your Oracle's details accordingly\n",
    "server = \"localhost\"\n",
    "port = 1521\n",
    "service_name = 'odi'\n",
    "jdbcUrl = f\"jdbc:oracle:thin:@{server}:{port}:{service_name}\"\n",
    "jdbcDriver = \"oracle.jdbc.driver.OracleDriver\"\n",
    "\n",
    "\n",
    "\n",
    "# Create a data frame by writing data to Oracle via JDBC\n",
    "data2.write.format(\"jdbc\") \\\n",
    "    .option(\"url\", jdbcUrl) \\\n",
    "    .option(\"dbtable\", dbtable) \\\n",
    "    .option(\"user\", user) \\\n",
    "    .option(\"password\", password) \\\n",
    "    .option(\"driver\", jdbcDriver) \\\n",
    "    .mode('append').save()\n",
    "print('Done')\n",
    "print(' ')\n",
    "\n",
    "print(\"To Check in Details Visit Spark-UI Below:\")\n",
    "spark"
   ]
  },
  {
   "cell_type": "code",
   "execution_count": 1,
   "id": "e2317ec6",
   "metadata": {},
   "outputs": [
    {
     "name": "stdout",
     "output_type": "stream",
     "text": [
      "1.5.3\n"
     ]
    }
   ],
   "source": [
    "# file1.py\n",
    "import pyspark.sql.pandas\n",
    "\n",
    "# file2.py\n",
    "\n",
    "import pandas as pd\n",
    "\n",
    "print(pd.__version__)\n"
   ]
  },
  {
   "cell_type": "code",
   "execution_count": 5,
   "id": "3eeb21bc",
   "metadata": {},
   "outputs": [
    {
     "name": "stdout",
     "output_type": "stream",
     "text": [
      "------> Starting Spark Engine....\n",
      "Spark Engine is Ready.\n",
      " \n",
      "------> Starting Ingestion....\n",
      "Done\n",
      " \n",
      "------> Starting Loading....\n",
      "Done\n",
      " \n",
      "CPU times: total: 78.1 ms\n",
      "Wall time: 8min 33s\n"
     ]
    }
   ],
   "source": [
    "%%time\n",
    "from pyspark.sql import SparkSession\n",
    "from pyspark.sql.functions import count, isnull, when ,col\n",
    "from pyspark.sql.types import *\n",
    "import os\n",
    "import sys\n",
    "spark_path = r\"C:\\Spark\\spark-3.4.0\"\n",
    "os.environ['SPARK_HOME'] = spark_path\n",
    "sys.path.insert(0, spark_path + \"/bin\")\n",
    "sys.path.insert(0, spark_path + \"/python/pyspark/\")\n",
    "sys.path.insert(0, spark_path + \"/python/lib/pyspark.zip\")\n",
    "sys.path.insert(0, spark_path + \"/python/lib/py4j-0.10.7-src.zip\")\n",
    "\n",
    "# Create a SparkSession with custom configurations\n",
    "print('------> Starting Spark Engine....')\n",
    "spark = SparkSession.builder \\\n",
    "    .appName(\"MySparkApp\") \\\n",
    "    .master(\"local[*]\") \\\n",
    "    .config(\"spark.executor.memory\", \"8g\") \\\n",
    "    .config(\"spark.memory.fraction\", \"0.8\") \\\n",
    "    .config(\"spark.log.level\", \"WARN\") \\\n",
    "    .config(\"spark.jars\", \"file:///C:/spark/spark-3.4.0/jars/py4j-0.10.9.7.jar\") \\\n",
    "    .getOrCreate()\n",
    "\n",
    "print('Spark Engine is Ready.')\n",
    "print(' ')\n",
    "\n",
    "\n",
    "\n",
    "# Read the data into a DataFrame\n",
    "print('------> Starting Ingestion....')\n",
    "data = spark.read.csv(r'C:\\Users\\hp\\PYSPARK-ASSESSMENT\\File -- Oracle DB\\male_players.csv', header=True, inferSchema=True)\n",
    "print('Done')\n",
    "print(' ')\n",
    "\n",
    "# Change this to your Oracle's details accordingly\n",
    "\n",
    "dbtable = \"test\"\n",
    "user = \"system\"\n",
    "password = \"Welcome123456\"\n",
    "server = \"localhost\"\n",
    "port = 1521\n",
    "service_name = 'spark'\n",
    "jdbcUrl = f\"jdbc:oracle:thin:@{server}:{port}:{service_name}\"\n",
    "jdbcDriver = \"oracle.jdbc.driver.OracleDriver\"\n",
    "\n",
    "\n",
    "data2=data.withColumn(\"player_traits\", data[\"player_traits\"].cast(\"Long\"))\n",
    "print('------> Starting Loading....')\n",
    "\n",
    "# Create a data frame by writing data to Oracle via JDBC\n",
    "data2.write.format(\"jdbc\") \\\n",
    "    .option(\"url\", jdbcUrl) \\\n",
    "    .option(\"dbtable\", dbtable) \\\n",
    "    .option(\"user\", user) \\\n",
    "    .option(\"password\", password) \\\n",
    "    .option(\"driver\", jdbcDriver) \\\n",
    "    .mode('overwrite').save()\n",
    "print('Done')\n",
    "print(' ')"
   ]
  },
  {
   "cell_type": "code",
   "execution_count": 2,
   "id": "5efe47ef",
   "metadata": {
    "scrolled": true
   },
   "outputs": [
    {
     "data": {
      "text/html": [
       "\n",
       "            <div>\n",
       "                <p><b>SparkSession - in-memory</b></p>\n",
       "                \n",
       "        <div>\n",
       "            <p><b>SparkContext</b></p>\n",
       "\n",
       "            <p><a href=\"http://192.168.1.6:4040\">Spark UI</a></p>\n",
       "\n",
       "            <dl>\n",
       "              <dt>Version</dt>\n",
       "                <dd><code>v3.4.0</code></dd>\n",
       "              <dt>Master</dt>\n",
       "                <dd><code>local[*]</code></dd>\n",
       "              <dt>AppName</dt>\n",
       "                <dd><code>MySparkApp</code></dd>\n",
       "            </dl>\n",
       "        </div>\n",
       "        \n",
       "            </div>\n",
       "        "
      ],
      "text/plain": [
       "<pyspark.sql.session.SparkSession at 0x23542df26e0>"
      ]
     },
     "execution_count": 2,
     "metadata": {},
     "output_type": "execute_result"
    }
   ],
   "source": [
    "spark"
   ]
  },
  {
   "cell_type": "code",
   "execution_count": 6,
   "id": "f6a36453",
   "metadata": {},
   "outputs": [],
   "source": [
    "spark.stop()"
   ]
  },
  {
   "cell_type": "markdown",
   "id": "3166a2c0",
   "metadata": {},
   "source": [
    "# 1-KryoSerializer"
   ]
  },
  {
   "cell_type": "code",
   "execution_count": 1,
   "id": "447eeabe",
   "metadata": {
    "scrolled": true
   },
   "outputs": [
    {
     "name": "stdout",
     "output_type": "stream",
     "text": [
      "------> Starting Spark Engine....\n",
      "Spark Engine is Ready.\n",
      " \n",
      "------> Starting Ingestion....\n",
      "Done\n",
      " \n",
      "------> Starting Loading....\n",
      "Done\n",
      " \n",
      "CPU times: total: 516 ms\n",
      "Wall time: 8min 24s\n"
     ]
    }
   ],
   "source": [
    "%%time\n",
    "from pyspark.sql import SparkSession\n",
    "from pyspark.sql.functions import count, isnull, when ,col\n",
    "from pyspark.sql.types import *\n",
    "import os\n",
    "import sys\n",
    "spark_path = r\"C:\\Spark\\spark-3.4.0\"\n",
    "os.environ['SPARK_HOME'] = spark_path\n",
    "sys.path.insert(0, spark_path + \"/bin\")\n",
    "sys.path.insert(0, spark_path + \"/python/pyspark/\")\n",
    "sys.path.insert(0, spark_path + \"/python/lib/pyspark.zip\")\n",
    "sys.path.insert(0, spark_path + \"/python/lib/py4j-0.10.7-src.zip\")\n",
    "\n",
    "# Create a SparkSession with custom configurations\n",
    "print('------> Starting Spark Engine....')\n",
    "spark = SparkSession.builder \\\n",
    "    .appName(\"MySparkApp\") \\\n",
    "    .master(\"local[*]\") \\\n",
    "    .config(\"spark.executor.memory\", \"8g\") \\\n",
    "    .config(\"spark.memory.fraction\", \"0.8\") \\\n",
    "    .config(\"spark.log.level\", \"WARN\") \\\n",
    "    .config(\"spark.serializer\", \"org.apache.spark.serializer.KryoSerializer\") \\\n",
    "    .getOrCreate()\n",
    "\n",
    "print('Spark Engine is Ready.')\n",
    "print(' ')\n",
    "\n",
    "\n",
    "\n",
    "# Read the data into a DataFrame\n",
    "print('------> Starting Ingestion....')\n",
    "data = spark.read.csv(r'C:\\Users\\hp\\PYSPARK-ASSESSMENT\\File -- Oracle DB\\male_players.csv', header=True, inferSchema=True)\n",
    "print('Done')\n",
    "print(' ')\n",
    "\n",
    "\n",
    "\n",
    "\n",
    "# Change this to your Oracle's details accordingly\n",
    "\n",
    "dbtable = \"test1\"\n",
    "user = \"system\"\n",
    "password = \"Welcome123456\"\n",
    "server = \"localhost\"\n",
    "port = 1521\n",
    "service_name = 'spark'\n",
    "jdbcUrl = f\"jdbc:oracle:thin:@{server}:{port}:{service_name}\"\n",
    "jdbcDriver = \"oracle.jdbc.driver.OracleDriver\"\n",
    "\n",
    "\n",
    "data2=data.withColumn(\"player_traits\", data[\"player_traits\"].cast(\"Long\"))\n",
    "print('------> Starting Loading....')\n",
    "\n",
    "# Create a data frame by writing data to Oracle via JDBC\n",
    "data2.write.format(\"jdbc\") \\\n",
    "    .option(\"url\", jdbcUrl) \\\n",
    "    .option(\"dbtable\", dbtable) \\\n",
    "    .option(\"user\", user) \\\n",
    "    .option(\"password\", password) \\\n",
    "    .option(\"driver\", jdbcDriver) \\\n",
    "    .mode('overwrite').save()\n",
    "print('Done')\n",
    "print(' ')"
   ]
  },
  {
   "cell_type": "code",
   "execution_count": 2,
   "id": "f5f0521e",
   "metadata": {},
   "outputs": [],
   "source": [
    "spark.stop()"
   ]
  },
  {
   "cell_type": "markdown",
   "id": "05bbcd38",
   "metadata": {},
   "source": [
    "# 3-inMemoryColumnarStorage.batchSize = 100,000"
   ]
  },
  {
   "cell_type": "code",
   "execution_count": 1,
   "id": "861cf754",
   "metadata": {
    "scrolled": true
   },
   "outputs": [
    {
     "name": "stdout",
     "output_type": "stream",
     "text": [
      "------> Starting Spark Engine....\n",
      "Spark Engine is Ready.\n",
      " \n",
      "------> Starting Ingestion....\n",
      "Done\n",
      " \n",
      "------> Starting Loading....\n",
      "Done\n",
      " \n",
      "CPU times: total: 359 ms\n",
      "Wall time: 7min 52s\n"
     ]
    }
   ],
   "source": [
    "%%time\n",
    "from pyspark.sql import SparkSession\n",
    "from pyspark.sql.functions import count, isnull, when ,col\n",
    "from pyspark.sql.types import *\n",
    "import os\n",
    "import sys\n",
    "spark_path = r\"C:\\Spark\\spark-3.4.0\"\n",
    "os.environ['SPARK_HOME'] = spark_path\n",
    "sys.path.insert(0, spark_path + \"/bin\")\n",
    "sys.path.insert(0, spark_path + \"/python/pyspark/\")\n",
    "sys.path.insert(0, spark_path + \"/python/lib/pyspark.zip\")\n",
    "sys.path.insert(0, spark_path + \"/python/lib/py4j-0.10.7-src.zip\")\n",
    "\n",
    "# Create a SparkSession with custom configurations\n",
    "print('------> Starting Spark Engine....')\n",
    "spark = SparkSession.builder \\\n",
    "    .appName(\"MySparkApp\") \\\n",
    "    .master(\"local[*]\") \\\n",
    "    .config(\"spark.executor.memory\", \"8g\") \\\n",
    "    .config(\"spark.memory.fraction\", \"0.8\") \\\n",
    "    .config(\"spark.log.level\", \"WARN\") \\\n",
    "    .config(\"spark.jars\", \"file:///C:/spark/spark-3.4.0/jars/py4j-0.10.9.7.jar\") \\\n",
    "    .config(\"spark.sql.inMemoryColumnarStorage.batchSize\", \"100000\")\\\n",
    "    .getOrCreate()\n",
    "\n",
    "print('Spark Engine is Ready.')\n",
    "print(' ')\n",
    "\n",
    "\n",
    "\n",
    "# Read the data into a DataFrame\n",
    "print('------> Starting Ingestion....')\n",
    "data = spark.read.csv(r'C:\\Users\\hp\\PYSPARK-ASSESSMENT\\File -- Oracle DB\\male_players.csv', header=True, inferSchema=True)\n",
    "print('Done')\n",
    "print(' ')\n",
    "\n",
    "# Change this to your Oracle's details accordingly\n",
    "\n",
    "dbtable = \"test\"\n",
    "user = \"system\"\n",
    "password = \"Welcome123456\"\n",
    "server = \"localhost\"\n",
    "port = 1521\n",
    "service_name = 'spark'\n",
    "jdbcUrl = f\"jdbc:oracle:thin:@{server}:{port}:{service_name}\"\n",
    "jdbcDriver = \"oracle.jdbc.driver.OracleDriver\"\n",
    "\n",
    "\n",
    "data2=data.withColumn(\"player_traits\", data[\"player_traits\"].cast(\"Long\"))\n",
    "print('------> Starting Loading....')\n",
    "\n",
    "# Create a data frame by writing data to Oracle via JDBC\n",
    "data2.write.format(\"jdbc\") \\\n",
    "    .option(\"url\", jdbcUrl) \\\n",
    "    .option(\"dbtable\", dbtable) \\\n",
    "    .option(\"user\", user) \\\n",
    "    .option(\"password\", password) \\\n",
    "    .option(\"driver\", jdbcDriver) \\\n",
    "    .mode('overwrite').save()\n",
    "print('Done')\n",
    "print(' ')"
   ]
  },
  {
   "cell_type": "code",
   "execution_count": 3,
   "id": "d4fccb3b",
   "metadata": {},
   "outputs": [],
   "source": [
    "spark.stop()"
   ]
  },
  {
   "cell_type": "markdown",
   "id": "41cb82b3",
   "metadata": {},
   "source": [
    "# 4-inMemoryColumnarStorage.batchSize = 500,000"
   ]
  },
  {
   "cell_type": "code",
   "execution_count": null,
   "id": "cf639953",
   "metadata": {},
   "outputs": [
    {
     "name": "stdout",
     "output_type": "stream",
     "text": [
      "------> Starting Spark Engine....\n",
      "Spark Engine is Ready.\n",
      " \n",
      "------> Starting Ingestion....\n"
     ]
    }
   ],
   "source": [
    "%%time\n",
    "from pyspark.sql import SparkSession\n",
    "from pyspark.sql.functions import count, isnull, when ,col\n",
    "from pyspark.sql.types import *\n",
    "import os\n",
    "import sys\n",
    "spark_path = r\"C:\\Spark\\spark-3.4.0\"\n",
    "os.environ['SPARK_HOME'] = spark_path\n",
    "sys.path.insert(0, spark_path + \"/bin\")\n",
    "sys.path.insert(0, spark_path + \"/python/pyspark/\")\n",
    "sys.path.insert(0, spark_path + \"/python/lib/pyspark.zip\")\n",
    "sys.path.insert(0, spark_path + \"/python/lib/py4j-0.10.7-src.zip\")\n",
    "\n",
    "# Create a SparkSession with custom configurations\n",
    "print('------> Starting Spark Engine....')\n",
    "spark = SparkSession.builder \\\n",
    "    .appName(\"MySparkApp1\") \\\n",
    "    .master(\"local[*]\") \\\n",
    "    .config(\"spark.executor.memory\", \"8g\") \\\n",
    "    .config(\"spark.log.level\", \"WARN\") \\\n",
    "    .config(\"spark.sql.inMemoryColumnarStorage.batchSize\", \"500000\")\\\n",
    "    .config(\"spark.jars\", \"file:///C:/spark/spark-3.4.0/jars/py4j-0.10.9.7.jar\") \\\n",
    "    .getOrCreate()\n",
    "\n",
    "print('Spark Engine is Ready.')\n",
    "print(' ')\n",
    "\n",
    "\n",
    "\n",
    "# Read the data into a DataFrame\n",
    "print('------> Starting Ingestion....')\n",
    "data = spark.read.csv(r'C:\\Users\\hp\\PYSPARK-ASSESSMENT\\File -- Oracle DB\\male_players.csv'\n",
    "                      , header=True, inferSchema=True)\n",
    "print('Done')\n",
    "print(' ')\n",
    "\n",
    "# Change this to your Oracle's details accordingly\n",
    "\n",
    "dbtable = \"test\"\n",
    "user = \"system\"\n",
    "password = \"Welcome123456\"\n",
    "server = \"localhost\"\n",
    "port = 1521\n",
    "service_name = 'spark'\n",
    "jdbcUrl = f\"jdbc:oracle:thin:@{server}:{port}:{service_name}\"\n",
    "jdbcDriver = \"oracle.jdbc.driver.OracleDriver\"\n",
    "\n",
    "\n",
    "data2=data.withColumn(\"player_traits\", data[\"player_traits\"].cast(\"Long\"))\n",
    "print('------> Starting Loading....')\n",
    "\n",
    "# Create a data frame by writing data to Oracle via JDBC\n",
    "data2.write.format(\"jdbc\") \\\n",
    "    .option(\"url\", jdbcUrl) \\\n",
    "    .option(\"dbtable\", dbtable) \\\n",
    "    .option(\"user\", user) \\\n",
    "    .option(\"password\", password) \\\n",
    "    .option(\"driver\", jdbcDriver) \\\n",
    "    .mode('overwrite').save()\n",
    "print('Done')\n",
    "print(' ')"
   ]
  },
  {
   "cell_type": "code",
   "execution_count": 2,
   "id": "1d8b4b4d",
   "metadata": {
    "scrolled": true
   },
   "outputs": [
    {
     "data": {
      "text/html": [
       "\n",
       "            <div>\n",
       "                <p><b>SparkSession - in-memory</b></p>\n",
       "                \n",
       "        <div>\n",
       "            <p><b>SparkContext</b></p>\n",
       "\n",
       "            <p><a href=\"http://192.168.1.6:4040\">Spark UI</a></p>\n",
       "\n",
       "            <dl>\n",
       "              <dt>Version</dt>\n",
       "                <dd><code>v3.4.0</code></dd>\n",
       "              <dt>Master</dt>\n",
       "                <dd><code>local[*]</code></dd>\n",
       "              <dt>AppName</dt>\n",
       "                <dd><code>MySparkApp</code></dd>\n",
       "            </dl>\n",
       "        </div>\n",
       "        \n",
       "            </div>\n",
       "        "
      ],
      "text/plain": [
       "<pyspark.sql.session.SparkSession at 0x28035ca2830>"
      ]
     },
     "execution_count": 2,
     "metadata": {},
     "output_type": "execute_result"
    }
   ],
   "source": [
    "spark"
   ]
  },
  {
   "cell_type": "code",
   "execution_count": 2,
   "id": "6a41e2e9",
   "metadata": {},
   "outputs": [
    {
     "name": "stdout",
     "output_type": "stream",
     "text": [
      "The number of partitions is: 42\n"
     ]
    }
   ],
   "source": [
    "# Get the number of partitions\n",
    "num_partitions = data.rdd.getNumPartitions()\n",
    "\n",
    "# Print the number of partitions\n",
    "print(\"The number of partitions is:\", num_partitions)"
   ]
  },
  {
   "cell_type": "code",
   "execution_count": null,
   "id": "9d92444f",
   "metadata": {},
   "outputs": [],
   "source": []
  }
 ],
 "metadata": {
  "kernelspec": {
   "display_name": "Python 3 (ipykernel)",
   "language": "python",
   "name": "python3"
  },
  "language_info": {
   "codemirror_mode": {
    "name": "ipython",
    "version": 3
   },
   "file_extension": ".py",
   "mimetype": "text/x-python",
   "name": "python",
   "nbconvert_exporter": "python",
   "pygments_lexer": "ipython3",
   "version": "3.10.9"
  }
 },
 "nbformat": 4,
 "nbformat_minor": 5
}
