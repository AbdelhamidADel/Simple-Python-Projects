{
 "cells": [
  {
   "cell_type": "code",
   "execution_count": 15,
   "metadata": {},
   "outputs": [
    {
     "name": "stdout",
     "output_type": "stream",
     "text": [
      "what do I have to do now​ ?\n",
      "Let’s open social media\n"
     ]
    }
   ],
   "source": [
    "import random\n",
    "\n",
    "action = [\n",
    "    'sleep',\n",
    "    'play',\n",
    "    'do homework',\n",
    "    'eat',\n",
    "    'walk out side',\n",
    "    'call a friend',\n",
    "    'open social media',\n",
    "    'watch a movie',\n",
    "    'a drink coffee' \n",
    "]\n",
    "\n",
    "\n",
    "selected = random.choice(action)\n",
    "\n",
    "print('what do I have to do now​ ?')\n",
    "print(\"Let’s \"+selected)"
   ]
  },
  {
   "cell_type": "code",
   "execution_count": null,
   "metadata": {},
   "outputs": [],
   "source": []
  }
 ],
 "metadata": {
  "kernelspec": {
   "display_name": "Python 3 (ipykernel)",
   "language": "python",
   "name": "python3"
  },
  "language_info": {
   "codemirror_mode": {
    "name": "ipython",
    "version": 3
   },
   "file_extension": ".py",
   "mimetype": "text/x-python",
   "name": "python",
   "nbconvert_exporter": "python",
   "pygments_lexer": "ipython3",
   "version": "3.7.6"
  }
 },
 "nbformat": 4,
 "nbformat_minor": 4
}
