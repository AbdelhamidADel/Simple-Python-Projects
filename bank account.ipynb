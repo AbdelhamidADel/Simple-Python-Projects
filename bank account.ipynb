{
 "cells": [
  {
   "cell_type": "code",
   "execution_count": 7,
   "metadata": {},
   "outputs": [
    {
     "name": "stdout",
     "output_type": "stream",
     "text": [
      "Enter The transaction (\"EX: D 100\"): d 100\n",
      "Enter The transaction (\"EX: D 100\"): w 50\n",
      "Enter The transaction (\"EX: D 100\"): \n",
      "The balance in your account at the moment 50$\n"
     ]
    }
   ],
   "source": [
    "net_amount = 0\n",
    "\n",
    "while True :\n",
    "    s = str(input('Enter The transaction (\"EX: D 100\"): '))\n",
    "    if not s : \n",
    "        break\n",
    "        \n",
    "    data = s.split(' ')    \n",
    "    operation = data[0]\n",
    "    operation_=operation.upper()\n",
    "    value = int(data[1])\n",
    "    if operation_ == 'D' :\n",
    "        net_amount += value\n",
    "    elif operation_== 'W' :\n",
    "        net_amount -= value\n",
    "    else :\n",
    "        print('Invalid Operation')\n",
    "        break\n",
    "print(\"The balance in your account at the moment\",str(net_amount)+\"$\" )       "
   ]
  },
  {
   "cell_type": "code",
   "execution_count": null,
   "metadata": {},
   "outputs": [],
   "source": []
  }
 ],
 "metadata": {
  "kernelspec": {
   "display_name": "Python 3 (ipykernel)",
   "language": "python",
   "name": "python3"
  },
  "language_info": {
   "codemirror_mode": {
    "name": "ipython",
    "version": 3
   },
   "file_extension": ".py",
   "mimetype": "text/x-python",
   "name": "python",
   "nbconvert_exporter": "python",
   "pygments_lexer": "ipython3",
   "version": "3.7.6"
  }
 },
 "nbformat": 4,
 "nbformat_minor": 4
}
