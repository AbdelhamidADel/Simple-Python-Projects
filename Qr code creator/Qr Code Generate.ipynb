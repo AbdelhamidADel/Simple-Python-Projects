{
 "cells": [
  {
   "cell_type": "code",
   "execution_count": 4,
   "metadata": {},
   "outputs": [],
   "source": [
    "import pyqrcode \n",
    "from pyqrcode import QRCode \n",
    "  \n",
    "# input what you want to make Qr Code for it\n",
    "s = \"https://github.com/AbdelhamidADel\"\n",
    "  \n",
    "# make order\n",
    "url = pyqrcode.create(s) \n",
    "  \n",
    "#save Qr code in Svg\n",
    "url.svg(\"AbdelhamidADel_GitHub.svg\", scale = 8) \n"
   ]
  }
 ],
 "metadata": {
  "kernelspec": {
   "display_name": "Python 3 (ipykernel)",
   "language": "python",
   "name": "python3"
  },
  "language_info": {
   "codemirror_mode": {
    "name": "ipython",
    "version": 3
   },
   "file_extension": ".py",
   "mimetype": "text/x-python",
   "name": "python",
   "nbconvert_exporter": "python",
   "pygments_lexer": "ipython3",
   "version": "3.7.6"
  }
 },
 "nbformat": 4,
 "nbformat_minor": 4
}
