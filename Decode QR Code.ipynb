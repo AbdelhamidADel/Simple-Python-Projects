{
 "cells": [
  {
   "cell_type": "code",
   "execution_count": 17,
   "id": "14a2d2bf",
   "metadata": {},
   "outputs": [
    {
     "data": {
      "text/plain": [
       "('GitHub-Profile.png', <http.client.HTTPMessage at 0x18bf44ea9e0>)"
      ]
     },
     "execution_count": 17,
     "metadata": {},
     "output_type": "execute_result"
    }
   ],
   "source": [
    "import urllib.request\n",
    "import zxing\n",
    "\n",
    "urllib.request.urlretrieve(\n",
    "  'https://user-images.githubusercontent.com/104658866/172026743-ace9d8a5-c83d-4e50-88c7-2ddf213788ab.png',\n",
    "   \"GitHub-Profile.png\")"
   ]
  },
  {
   "cell_type": "code",
   "execution_count": 37,
   "id": "8c2791dd",
   "metadata": {},
   "outputs": [
    {
     "name": "stdout",
     "output_type": "stream",
     "text": [
      "BarCode(raw='https://github.com/AbdelhamidADel', parsed='https://github.com/AbdelhamidADel', path='/C:/Users/abdel/python projects simple/GitHub-Profile.png', format='QR_CODE', type='URI', points=[(60.0, 268.0), (60.0, 60.0), (268.0, 60.0), (244.0, 244.0)])\n"
     ]
    }
   ],
   "source": [
    "reader = zxing.BarCodeReader()\n",
    "barcode = reader.decode(\"GitHub-Profile.png\")\n",
    "print(barcode)"
   ]
  },
  {
   "cell_type": "code",
   "execution_count": null,
   "id": "2c414b34",
   "metadata": {},
   "outputs": [],
   "source": []
  }
 ],
 "metadata": {
  "kernelspec": {
   "display_name": "myenv",
   "language": "python",
   "name": "myenv"
  },
  "language_info": {
   "codemirror_mode": {
    "name": "ipython",
    "version": 3
   },
   "file_extension": ".py",
   "mimetype": "text/x-python",
   "name": "python",
   "nbconvert_exporter": "python",
   "pygments_lexer": "ipython3",
   "version": "3.10.4"
  }
 },
 "nbformat": 4,
 "nbformat_minor": 5
}
