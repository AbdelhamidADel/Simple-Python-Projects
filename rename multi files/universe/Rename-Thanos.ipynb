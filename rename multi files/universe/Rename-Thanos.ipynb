{
 "cells": [
  {
   "cell_type": "code",
   "execution_count": 18,
   "metadata": {},
   "outputs": [],
   "source": [
    "import os\n"
   ]
  },
  {
   "cell_type": "code",
   "execution_count": 19,
   "metadata": {},
   "outputs": [],
   "source": [
    "def show_universe_people(place):\n",
    "    people = os.listdir(place)\n",
    "    return people"
   ]
  },
  {
   "cell_type": "code",
   "execution_count": 20,
   "metadata": {},
   "outputs": [
    {
     "data": {
      "text/plain": [
       "['cover001.png',\n",
       " 'cover002.png',\n",
       " 'cover003.png',\n",
       " 'cover004.png',\n",
       " 'cover005.png',\n",
       " 'cover006.png',\n",
       " 'cover007.png',\n",
       " 'cover008.png',\n",
       " 'cover009.png',\n",
       " 'cover010.png',\n",
       " 'cover011.png',\n",
       " 'cover012.png',\n",
       " 'cover013.png',\n",
       " 'cover014.png',\n",
       " 'cover015.png',\n",
       " 'cover016.png',\n",
       " 'cover017.png',\n",
       " 'cover018.png',\n",
       " 'cover019.png',\n",
       " 'cover020.png',\n",
       " 'cover021.png',\n",
       " 'cover022.png',\n",
       " 'cover023.png',\n",
       " 'cover024.png',\n",
       " 'cover025.png',\n",
       " 'cover026.png',\n",
       " 'cover027.png',\n",
       " 'cover028.png',\n",
       " 'cover029.png',\n",
       " 'cover030.png',\n",
       " 'cover031.png',\n",
       " 'cover032.png',\n",
       " 'cover033.png',\n",
       " 'cover034.png',\n",
       " 'cover035.png',\n",
       " 'cover036.png',\n",
       " 'cover037.png',\n",
       " 'cover038.png',\n",
       " 'cover039.png',\n",
       " 'cover040.png',\n",
       " 'cover041.png',\n",
       " 'cover042.png',\n",
       " 'cover043.png',\n",
       " 'cover044.png',\n",
       " 'cover045.png',\n",
       " 'cover046.png',\n",
       " 'cover047.png',\n",
       " 'cover048.png',\n",
       " 'cover049.png',\n",
       " 'cover050.png']"
      ]
     },
     "execution_count": 20,
     "metadata": {},
     "output_type": "execute_result"
    }
   ],
   "source": [
    "universe = show_universe_people('universe')\n",
    "universe"
   ]
  },
  {
   "cell_type": "code",
   "execution_count": 47,
   "metadata": {},
   "outputs": [],
   "source": [
    "\n",
    "def main():\n",
    "\n",
    "    folder = \"universe\"\n",
    "    for count, filename in enumerate(os.listdir(folder)):\n",
    "        new = f\"NEW THANOS {str(count)}.jpg\"\n",
    "        old =f\"{folder}/{filename}\" \n",
    "        new =f\"{folder}/{new}\"\n",
    "        os.rename(old, new)\n",
    " \n",
    "\n",
    "if __name__ == '__main__':\n",
    "     \n",
    "    \n",
    "    main()\n",
    "        "
   ]
  },
  {
   "cell_type": "code",
   "execution_count": 48,
   "metadata": {},
   "outputs": [
    {
     "data": {
      "text/plain": [
       "['NEW THANOS 0.jpg',\n",
       " 'NEW THANOS 1.jpg',\n",
       " 'NEW THANOS 10.jpg',\n",
       " 'NEW THANOS 11.jpg',\n",
       " 'NEW THANOS 12.jpg',\n",
       " 'NEW THANOS 13.jpg',\n",
       " 'NEW THANOS 14.jpg',\n",
       " 'NEW THANOS 15.jpg',\n",
       " 'NEW THANOS 16.jpg',\n",
       " 'NEW THANOS 17.jpg',\n",
       " 'NEW THANOS 18.jpg',\n",
       " 'NEW THANOS 19.jpg',\n",
       " 'NEW THANOS 2.jpg',\n",
       " 'NEW THANOS 20.jpg',\n",
       " 'NEW THANOS 21.jpg',\n",
       " 'NEW THANOS 22.jpg',\n",
       " 'NEW THANOS 23.jpg',\n",
       " 'NEW THANOS 24.jpg',\n",
       " 'NEW THANOS 25.jpg',\n",
       " 'NEW THANOS 26.jpg',\n",
       " 'NEW THANOS 27.jpg',\n",
       " 'NEW THANOS 28.jpg',\n",
       " 'NEW THANOS 29.jpg',\n",
       " 'NEW THANOS 3.jpg',\n",
       " 'NEW THANOS 30.jpg',\n",
       " 'NEW THANOS 31.jpg',\n",
       " 'NEW THANOS 32.jpg',\n",
       " 'NEW THANOS 33.jpg',\n",
       " 'NEW THANOS 34.jpg',\n",
       " 'NEW THANOS 35.jpg',\n",
       " 'NEW THANOS 36.jpg',\n",
       " 'NEW THANOS 37.jpg',\n",
       " 'NEW THANOS 38.jpg',\n",
       " 'NEW THANOS 39.jpg',\n",
       " 'NEW THANOS 4.jpg',\n",
       " 'NEW THANOS 40.jpg',\n",
       " 'NEW THANOS 41.jpg',\n",
       " 'NEW THANOS 42.jpg',\n",
       " 'NEW THANOS 43.jpg',\n",
       " 'NEW THANOS 44.jpg',\n",
       " 'NEW THANOS 45.jpg',\n",
       " 'NEW THANOS 46.jpg',\n",
       " 'NEW THANOS 47.jpg',\n",
       " 'NEW THANOS 48.jpg',\n",
       " 'NEW THANOS 49.jpg',\n",
       " 'NEW THANOS 5.jpg',\n",
       " 'NEW THANOS 6.jpg',\n",
       " 'NEW THANOS 7.jpg',\n",
       " 'NEW THANOS 8.jpg',\n",
       " 'NEW THANOS 9.jpg']"
      ]
     },
     "execution_count": 48,
     "metadata": {},
     "output_type": "execute_result"
    }
   ],
   "source": [
    "show_universe_people('universe')"
   ]
  },
  {
   "cell_type": "code",
   "execution_count": null,
   "metadata": {},
   "outputs": [],
   "source": []
  }
 ],
 "metadata": {
  "kernelspec": {
   "display_name": "Python 3 (ipykernel)",
   "language": "python",
   "name": "python3"
  },
  "language_info": {
   "codemirror_mode": {
    "name": "ipython",
    "version": 3
   },
   "file_extension": ".py",
   "mimetype": "text/x-python",
   "name": "python",
   "nbconvert_exporter": "python",
   "pygments_lexer": "ipython3",
   "version": "3.7.6"
  }
 },
 "nbformat": 4,
 "nbformat_minor": 4
}
