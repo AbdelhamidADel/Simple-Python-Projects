{
 "cells": [
  {
   "cell_type": "code",
   "execution_count": 17,
   "metadata": {},
   "outputs": [
    {
     "name": "stdout",
     "output_type": "stream",
     "text": [
      "Username: 1351\n",
      "Password: 32513\n",
      "please check both fields...\n"
     ]
    }
   ],
   "source": [
    "import time\n",
    "\n",
    "username = 'Abdelhamid'\n",
    "password = 'jljiwcjm6'\n",
    "\n",
    "username_input = input('Username: ')\n",
    "password_input = input('Password: ')\n",
    "\n",
    "   \n",
    "if username_input == username and password_input == password:\n",
    "    print('Access granted')\n",
    "    print('Please wait')\n",
    "    time.sleep(5)\n",
    "    print('Ok... Loading...')\n",
    "    time.sleep(1)\n",
    "    print('...')\n",
    "    time.sleep(1)\n",
    "    print('...')\n",
    "    print('The user has been identified.')\n",
    "elif username_input == username and password_input != password:\n",
    "    print('Password incorrect')\n",
    "elif username_input != username and password_input == password:\n",
    "    print('Username incorrect')\n",
    "else:\n",
    "    print('please check both fields...')\n",
    "    \n"
   ]
  },
  {
   "cell_type": "code",
   "execution_count": null,
   "metadata": {},
   "outputs": [],
   "source": []
  }
 ],
 "metadata": {
  "kernelspec": {
   "display_name": "Python 3 (ipykernel)",
   "language": "python",
   "name": "python3"
  },
  "language_info": {
   "codemirror_mode": {
    "name": "ipython",
    "version": 3
   },
   "file_extension": ".py",
   "mimetype": "text/x-python",
   "name": "python",
   "nbconvert_exporter": "python",
   "pygments_lexer": "ipython3",
   "version": "3.7.6"
  }
 },
 "nbformat": 4,
 "nbformat_minor": 4
}
