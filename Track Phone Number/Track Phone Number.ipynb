{
 "cells": [
  {
   "cell_type": "code",
   "execution_count": 32,
   "metadata": {},
   "outputs": [
    {
     "name": "stdout",
     "output_type": "stream",
     "text": [
      "please enter Number phone with Country Code : +201157346851\n",
      "Country Code: 20 National Number: 1157346851\n",
      "Verifying the number is correct.....\n",
      "Valid Mobile Number : True\n",
      "service provider : Etisalat\n",
      "Region : Egypt\n",
      "Timezone : Africa/Cairo\n",
      "2022-06-20 00:01:09.097168+02:00\n"
     ]
    }
   ],
   "source": [
    "import traceback\n",
    "import phonenumbers\n",
    "from phonenumbers import geocoder, carrier\n",
    "from phonenumbers import timezone\n",
    "from datetime import datetime\n",
    "import pytz\n",
    "import time\n",
    "\n",
    "#it's Random number not My Number\n",
    "try:\n",
    "    phoneNumber= phonenumbers.parse(input(\"please enter Number phone with Country Code : \"))\n",
    "    timeZone= timezone.time_zones_for_number(phoneNumber)\n",
    "    strr = ''.join(timeZone)\n",
    "    Carrier= carrier.name_for_number(phoneNumber, 'en')\n",
    "    Region= geocoder.description_for_number(phoneNumber, 'en')\n",
    "    valid= phonenumbers.is_valid_number(phoneNumber)\n",
    "\n",
    "\n",
    "    print(phoneNumber)\n",
    "    print(\"Verifying the number is correct.....\")\n",
    "    time.sleep(4)\n",
    "    print(\"Valid Mobile Number :\",valid)\n",
    "    print(\"service provider :\",Carrier)\n",
    "    print(\"Region :\",Region)\n",
    "    print(\"Timezone :\",strr)\n",
    "    print(datetime.now(pytz.timezone(strr)))\n",
    "except Exception as e:\n",
    "    print(repr(e))\n"
   ]
  },
  {
   "cell_type": "code",
   "execution_count": null,
   "metadata": {},
   "outputs": [],
   "source": []
  }
 ],
 "metadata": {
  "kernelspec": {
   "display_name": "Python 3 (ipykernel)",
   "language": "python",
   "name": "python3"
  },
  "language_info": {
   "codemirror_mode": {
    "name": "ipython",
    "version": 3
   },
   "file_extension": ".py",
   "mimetype": "text/x-python",
   "name": "python",
   "nbconvert_exporter": "python",
   "pygments_lexer": "ipython3",
   "version": "3.7.6"
  }
 },
 "nbformat": 4,
 "nbformat_minor": 4
}
