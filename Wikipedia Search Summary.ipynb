{
 "cells": [
  {
   "cell_type": "code",
   "execution_count": 2,
   "metadata": {},
   "outputs": [],
   "source": [
    "import wikipedia\n",
    "from tkinter import *\n",
    "from tkinter.messagebox import showinfo\n",
    "\n",
    "win = Tk()  # objek\n",
    "win.title(\"WIKIPEDIA\")\n",
    "win.geometry(\"200x70\")  # function\n",
    "\n",
    "# function\n",
    "def search_wiki():\n",
    "    search = entry.get()\n",
    "    summary = wikipedia.summary(search)\n",
    "    showinfo(\"summary\", summary)\n",
    "\n",
    "\n",
    "label = Label(win, text=\"Wikipedia Search :\")\n",
    "label.grid(row=0, column=0)\n",
    "\n",
    "entry = Entry(win)\n",
    "entry.grid(row=1, column=0)\n",
    "\n",
    "button = Button(win, text=\"Search\", command=search_wiki)\n",
    "button.grid(row=1, column=1, padx=10)\n",
    "\n",
    "win.mainloop()\n"
   ]
  },
  {
   "cell_type": "code",
   "execution_count": null,
   "metadata": {},
   "outputs": [],
   "source": []
  }
 ],
 "metadata": {
  "kernelspec": {
   "display_name": "Python 3 (ipykernel)",
   "language": "python",
   "name": "python3"
  },
  "language_info": {
   "codemirror_mode": {
    "name": "ipython",
    "version": 3
   },
   "file_extension": ".py",
   "mimetype": "text/x-python",
   "name": "python",
   "nbconvert_exporter": "python",
   "pygments_lexer": "ipython3",
   "version": "3.7.6"
  }
 },
 "nbformat": 4,
 "nbformat_minor": 4
}
