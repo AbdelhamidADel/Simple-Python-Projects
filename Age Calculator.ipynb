{
 "cells": [
  {
   "cell_type": "code",
   "execution_count": 6,
   "metadata": {},
   "outputs": [
    {
     "name": "stdout",
     "output_type": "stream",
     "text": [
      "enter your birth Year : 1\n",
      "enter your birth month : 1\n",
      "enter your birth day : 1\n",
      "2021  years old\n"
     ]
    }
   ],
   "source": [
    "from datetime import date\n",
    "  \n",
    "def calculateAge(dob):\n",
    "    today = date.today()\n",
    "    age = today.year - dob.year -((today.month, today.day) <\n",
    "         (dob.month, dob.day))\n",
    "  \n",
    "    return age\n",
    "x=int(input(\"enter your birth Year : \"))     \n",
    "y=int(input(\"enter your birth month : \"))     \n",
    "z=int(input(\"enter your birth day : \"))     \n",
    "\n",
    "print(calculateAge(date(x, y, z)), \" years old\")"
   ]
  },
  {
   "cell_type": "code",
   "execution_count": null,
   "metadata": {},
   "outputs": [],
   "source": []
  }
 ],
 "metadata": {
  "kernelspec": {
   "display_name": "Python 3 (ipykernel)",
   "language": "python",
   "name": "python3"
  },
  "language_info": {
   "codemirror_mode": {
    "name": "ipython",
    "version": 3
   },
   "file_extension": ".py",
   "mimetype": "text/x-python",
   "name": "python",
   "nbconvert_exporter": "python",
   "pygments_lexer": "ipython3",
   "version": "3.7.6"
  }
 },
 "nbformat": 4,
 "nbformat_minor": 4
}
