{
 "cells": [
  {
   "cell_type": "code",
   "execution_count": 1,
   "metadata": {},
   "outputs": [
    {
     "name": "stdout",
     "output_type": "stream",
     "text": [
      "مساء الخير\n"
     ]
    }
   ],
   "source": [
    "import requests\n",
    "def translate(q: str, f: str, t: str) -> str:\n",
    "\tq = q.strip().replace(' ', '%20')\n",
    "\th = {'User-Agent': 'curl/7.35.0', 'Host': 'translate.googleapis.com', 'Accept': '*/*'}\n",
    "\tu = f'https://translate.googleapis.com/translate_a/single?client=gtx&sl={f}&tl={t}&dt=t&dj=1&q={q}'\n",
    "\tr = requests.get(url=u, headers=h).json()\n",
    "\treturn r['sentences'][0]['trans']\n",
    "\n",
    "print(translate('good evening', 'en', 'ar'))\n"
   ]
  },
  {
   "cell_type": "code",
   "execution_count": null,
   "metadata": {},
   "outputs": [],
   "source": []
  }
 ],
 "metadata": {
  "kernelspec": {
   "display_name": "Python 3 (ipykernel)",
   "language": "python",
   "name": "python3"
  },
  "language_info": {
   "codemirror_mode": {
    "name": "ipython",
    "version": 3
   },
   "file_extension": ".py",
   "mimetype": "text/x-python",
   "name": "python",
   "nbconvert_exporter": "python",
   "pygments_lexer": "ipython3",
   "version": "3.7.6"
  }
 },
 "nbformat": 4,
 "nbformat_minor": 4
}
