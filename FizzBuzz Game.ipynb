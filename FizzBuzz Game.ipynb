{
 "cells": [
  {
   "cell_type": "code",
   "execution_count": 1,
   "metadata": {},
   "outputs": [
    {
     "name": "stdout",
     "output_type": "stream",
     "text": [
      "Choose a number to test the numbers that are included in this number\n",
      "EX==> If you choose 5, the program will test the numbers from 0 to 4\n",
      "please enter intger num : 9\n",
      "FizzBuzz\n",
      "1\n",
      "2\n",
      "Fizz\n",
      "4\n",
      "Buzz\n",
      "Fizz\n",
      "7\n",
      "8\n"
     ]
    }
   ],
   "source": [
    "print(\"Choose a number to test the numbers that are included in this number\")\n",
    "print(\"EX==> If you choose 5, the program will test the numbers from 0 to 4\")\n",
    "number=list(range(int(input(\"please enter intger num : \"))))\n",
    "for x in number :\n",
    "    if x % 3 == 0 and x % 5 == 0 :\n",
    "        print(\"FizzBuzz\")\n",
    "\n",
    "    elif x % 3 == 0 :\n",
    "        print(\"Fizz\")\n",
    "\n",
    "    elif x % 5 == 0 :\n",
    "        print(\"Buzz\")\n",
    "\n",
    "    else:\n",
    "        print(x)"
   ]
  },
  {
   "cell_type": "code",
   "execution_count": null,
   "metadata": {},
   "outputs": [],
   "source": []
  }
 ],
 "metadata": {
  "kernelspec": {
   "display_name": "Python 3 (ipykernel)",
   "language": "python",
   "name": "python3"
  },
  "language_info": {
   "codemirror_mode": {
    "name": "ipython",
    "version": 3
   },
   "file_extension": ".py",
   "mimetype": "text/x-python",
   "name": "python",
   "nbconvert_exporter": "python",
   "pygments_lexer": "ipython3",
   "version": "3.7.6"
  }
 },
 "nbformat": 4,
 "nbformat_minor": 4
}
