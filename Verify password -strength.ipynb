{
 "cells": [
  {
   "cell_type": "code",
   "execution_count": 2,
   "metadata": {},
   "outputs": [],
   "source": [
    "import re\n",
    "import time\n",
    "from tqdm import tqdm\n",
    "\n",
    "\n",
    "def password():\n",
    "    \n",
    "    while True:\n",
    "        password = input(\"please enter Password :\")\n",
    "        if 8 <= len(password) < 12:\n",
    "            break\n",
    "        print ('The password must be between 8 and 12 characters.\\n')\n",
    "\n",
    "    password_scores = {0:'Horrible', 1:'Weak', 2:'Medium', 3:'Strong', 4:\"Very Strong\"}\n",
    "    password_strength = dict.fromkeys(['has_upper', 'has_lower', 'has_num',\"has_Symbol\"], False)\n",
    "    if re.search(r'[A-Z]', password):\n",
    "        password_strength['has_upper'] = True\n",
    "    if re.search(r'[a-z]', password):\n",
    "        password_strength['has_lower'] = True\n",
    "    if re.search(r'[0-9]', password):\n",
    "        password_strength['has_num'] = True\n",
    "    if re.search('[\\\\@#$-/:-?{-~!\"^_+]', password):\n",
    "        password_strength['has_Symbol'] = True\n",
    "\n",
    "    score = len([b for b in password_strength.values() if b])\n",
    "\n",
    "    for i in tqdm (range (100), \n",
    "               desc=\"Loading…\", \n",
    "               ascii=False, ncols=75):\n",
    "        time.sleep(0.01)\n",
    "    \n",
    "    print ('Password is %s' % password_scores[score])"
   ]
  },
  {
   "cell_type": "code",
   "execution_count": 3,
   "metadata": {},
   "outputs": [
    {
     "name": "stdout",
     "output_type": "stream",
     "text": [
      "please enter Password :Aa123_dgg\n"
     ]
    },
    {
     "name": "stderr",
     "output_type": "stream",
     "text": [
      "Loading…: 100%|██████████████████████████| 100/100 [00:01<00:00, 59.13it/s]"
     ]
    },
    {
     "name": "stdout",
     "output_type": "stream",
     "text": [
      "Password is Very Strong\n"
     ]
    },
    {
     "name": "stderr",
     "output_type": "stream",
     "text": [
      "\n"
     ]
    }
   ],
   "source": [
    "password()"
   ]
  },
  {
   "cell_type": "code",
   "execution_count": null,
   "metadata": {},
   "outputs": [],
   "source": []
  }
 ],
 "metadata": {
  "kernelspec": {
   "display_name": "Python 3 (ipykernel)",
   "language": "python",
   "name": "python3"
  },
  "language_info": {
   "codemirror_mode": {
    "name": "ipython",
    "version": 3
   },
   "file_extension": ".py",
   "mimetype": "text/x-python",
   "name": "python",
   "nbconvert_exporter": "python",
   "pygments_lexer": "ipython3",
   "version": "3.7.6"
  }
 },
 "nbformat": 4,
 "nbformat_minor": 4
}
