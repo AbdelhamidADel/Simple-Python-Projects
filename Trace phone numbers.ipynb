{
 "cells": [
  {
   "cell_type": "code",
   "execution_count": 9,
   "id": "738dac2a",
   "metadata": {},
   "outputs": [
    {
     "name": "stdout",
     "output_type": "stream",
     "text": [
      "('Africa/Cairo',)\n",
      "Orange\n",
      "Egypt\n"
     ]
    }
   ],
   "source": [
    "import phonenumbers as ph\n",
    "from phonenumbers import carrier\n",
    "from phonenumbers import geocoder\n",
    "from phonenumbers import timezone\n",
    "\n",
    "number = \"+2XXXXXXXXXXX\"\n",
    "number = ph.parse(number)\n",
    "print(timezone.time_zones_for_number(number))\n",
    "print(carrier.name_for_number(number, \"en\"))\n",
    "print(geocoder.description_for_number(number, \"en\"))"
   ]
  },
  {
   "cell_type": "code",
   "execution_count": null,
   "id": "f706ae1a",
   "metadata": {},
   "outputs": [],
   "source": []
  }
 ],
 "metadata": {
  "kernelspec": {
   "display_name": "myenv",
   "language": "python",
   "name": "myenv"
  },
  "language_info": {
   "codemirror_mode": {
    "name": "ipython",
    "version": 3
   },
   "file_extension": ".py",
   "mimetype": "text/x-python",
   "name": "python",
   "nbconvert_exporter": "python",
   "pygments_lexer": "ipython3",
   "version": "3.10.4"
  }
 },
 "nbformat": 4,
 "nbformat_minor": 5
}
