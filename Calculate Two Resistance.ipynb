{
 "cells": [
  {
   "cell_type": "code",
   "execution_count": 1,
   "metadata": {},
   "outputs": [
    {
     "name": "stdout",
     "output_type": "stream",
     "text": [
      "Enter R1 : 5\n",
      "Enter R2 : 6\n",
      "s mean ==>series , p mean ==> parallel\n",
      "Enter s or p :s\n",
      "\n",
      "\n",
      "The total resistance is 11\n"
     ]
    }
   ],
   "source": [
    "def res(R1, R2):\n",
    "    c = R1 + R2\n",
    "    if (option ==\"s\"):\n",
    "        return c\n",
    "    elif (option ==\"p\"):\n",
    "        return (R1 * R2)/(R1 + R2)\n",
    "    else:\n",
    "        print(\"plese check your Answer ..!\")\n",
    "        print(\"Answer with s Or p only\")\n",
    "\n",
    "Resistance1 = int(input(\"Enter R1 : \"))\n",
    "Resistance2 = int(input(\"Enter R2 : \"))\n",
    "print(\"s mean ==>series , p mean ==> parallel\")\n",
    "option = str(input(\"Enter s or p : \")).lower()\n",
    "print(\"\\n\")\n",
    "R = res(Resistance1,Resistance2 )\n",
    "print(\"The total resistance is\", R)"
   ]
  },
  {
   "cell_type": "code",
   "execution_count": null,
   "metadata": {},
   "outputs": [],
   "source": []
  }
 ],
 "metadata": {
  "kernelspec": {
   "display_name": "Python 3 (ipykernel)",
   "language": "python",
   "name": "python3"
  },
  "language_info": {
   "codemirror_mode": {
    "name": "ipython",
    "version": 3
   },
   "file_extension": ".py",
   "mimetype": "text/x-python",
   "name": "python",
   "nbconvert_exporter": "python",
   "pygments_lexer": "ipython3",
   "version": "3.7.6"
  }
 },
 "nbformat": 4,
 "nbformat_minor": 4
}
