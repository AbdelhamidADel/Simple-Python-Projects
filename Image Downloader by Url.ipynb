{
 "cells": [
  {
   "cell_type": "code",
   "execution_count": 7,
   "metadata": {},
   "outputs": [
    {
     "data": {
      "text/plain": [
       "('MoSalah.jpg', <http.client.HTTPMessage at 0x1e87fd5df08>)"
      ]
     },
     "execution_count": 7,
     "metadata": {},
     "output_type": "execute_result"
    }
   ],
   "source": [
    "import urllib.request\n",
    "\n",
    "image_url = 'https://scontent.fcai20-4.fna.fbcdn.net/v/t39.30808-6/283526081_583484339803194_6778766023492571176_n.jpg?_nc_cat=103&ccb=1-7&_nc_sid=8bfeb9&_nc_ohc=X1Wf3LzckY8AX_RPobt&_nc_ht=scontent.fcai20-4.fna&oh=00_AT8tlYZblSiBJJO3glamTQ8hwLXBFJMcAyHIuuPDUmwdyA&oe=629AB2B4' #the image on the web\n",
    "save_name = 'MoSalah.jpg' #local name to be saved\n",
    "urllib.request.urlretrieve(image_url, save_name)"
   ]
  },
  {
   "cell_type": "code",
   "execution_count": null,
   "metadata": {},
   "outputs": [],
   "source": []
  }
 ],
 "metadata": {
  "kernelspec": {
   "display_name": "Python 3 (ipykernel)",
   "language": "python",
   "name": "python3"
  },
  "language_info": {
   "codemirror_mode": {
    "name": "ipython",
    "version": 3
   },
   "file_extension": ".py",
   "mimetype": "text/x-python",
   "name": "python",
   "nbconvert_exporter": "python",
   "pygments_lexer": "ipython3",
   "version": "3.7.6"
  }
 },
 "nbformat": 4,
 "nbformat_minor": 4
}
